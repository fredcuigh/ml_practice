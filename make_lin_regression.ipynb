{
 "cells": [
  {
   "cell_type": "markdown",
   "metadata": {},
   "source": [
    "# Generate Regression Data"
   ]
  },
  {
   "cell_type": "code",
   "execution_count": 9,
   "metadata": {},
   "outputs": [],
   "source": [
    "import numpy as np\n",
    "import matplotlib.pyplot as plt\n",
    "from sklearn.datasets import make_regression\n",
    "import torch"
   ]
  },
  {
   "cell_type": "code",
   "execution_count": 4,
   "metadata": {},
   "outputs": [],
   "source": [
    "def make_lin_regression(n_features = 1, n_samples = 100, noise = 10, show_plot = True):\n",
    "    X, y = make_regression(\n",
    "        n_samples = n_samples,\n",
    "        n_features = n_features,\n",
    "        noise = noise,\n",
    "    )\n",
    "    dom_np = np.linspace(X.min(), X.max(), 20)\n",
    "    dom = torch.from_numpy(dom_np).unsqueeze(-1).float()\n",
    "    if show_plot is True:\n",
    "        fix, ax = plt.subplots()\n",
    "        ax.plot(X, y, \".\")\n",
    "    return dom_np, dom, X, y"
   ]
  },
  {
   "cell_type": "code",
   "execution_count": 10,
   "metadata": {},
   "outputs": [
    {
     "data": {
      "text/plain": [
       "(array([-2.10670519, -1.84243875, -1.57817231, -1.31390587, -1.04963943,\n",
       "        -0.78537298, -0.52110654, -0.2568401 ,  0.00742634,  0.27169278,\n",
       "         0.53595922,  0.80022566,  1.0644921 ,  1.32875855,  1.59302499,\n",
       "         1.85729143,  2.12155787,  2.38582431,  2.65009075,  2.91435719]),\n",
       " tensor([[-2.1067],\n",
       "         [-1.8424],\n",
       "         [-1.5782],\n",
       "         [-1.3139],\n",
       "         [-1.0496],\n",
       "         [-0.7854],\n",
       "         [-0.5211],\n",
       "         [-0.2568],\n",
       "         [ 0.0074],\n",
       "         [ 0.2717],\n",
       "         [ 0.5360],\n",
       "         [ 0.8002],\n",
       "         [ 1.0645],\n",
       "         [ 1.3288],\n",
       "         [ 1.5930],\n",
       "         [ 1.8573],\n",
       "         [ 2.1216],\n",
       "         [ 2.3858],\n",
       "         [ 2.6501],\n",
       "         [ 2.9144]]))"
      ]
     },
     "execution_count": 10,
     "metadata": {},
     "output_type": "execute_result"
    },
    {
     "data": {
      "image/png": "[encoded data removed]",
      "text/plain": [
       "<Figure size 432x288 with 1 Axes>"
      ]
     },
     "metadata": {
      "needs_background": "light"
     },
     "output_type": "display_data"
    }
   ],
   "source": [
    "#make_lin_regression()"
   ]
  }
 ],
 "metadata": {
  "kernelspec": {
   "display_name": "Python 3",
   "language": "python",
   "name": "python3"
  },
  "language_info": {
   "codemirror_mode": {
    "name": "ipython",
    "version": 3
   },
   "file_extension": ".py",
   "mimetype": "text/x-python",
   "name": "python",
   "nbconvert_exporter": "python",
   "pygments_lexer": "ipython3",
   "version": "3.8.5"
  }
 },
 "nbformat": 4,
 "nbformat_minor": 4
}
