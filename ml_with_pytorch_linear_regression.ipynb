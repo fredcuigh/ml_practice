{
 "cells": [
  {
   "cell_type": "markdown",
   "metadata": {},
   "source": [
    "# ML with PyTorch - Linear Regression Example\n",
    "\n",
    "## Workflow\n",
    "0. Data\n",
    "1. Model\n",
    "    - $f(X) = X \\beta = \\hat y$\n",
    "2. Loss\n",
    "    - $l_i = y_i - \\hat y_i$\n",
    "    - $L = \\frac{1}{n} \\sum y_i^2$\n",
    "3. Optimizer\n",
    "    - SGD\n",
    "    - or in this linear case, we can get solution directly with\n",
    "        - $\\hat\\beta = (X^TX)^{-1}X^Ty$"
   ]
  },
  {
   "cell_type": "code",
   "execution_count": 1,
   "metadata": {},
   "outputs": [],
   "source": [
    "import numpy as np\n",
    "import matplotlib.pyplot as plt\n",
    "from sklearn.datasets import make_regression\n",
    "import torch\n",
    "from torch import nn\n",
    "from torch import optim"
   ]
  },
  {
   "cell_type": "code",
   "execution_count": 2,
   "metadata": {},
   "outputs": [],
   "source": [
    "from make_lin_regression import *"
   ]
  },
  {
   "cell_type": "markdown",
   "metadata": {},
   "source": [
    "## 0. Data"
   ]
  },
  {
   "cell_type": "code",
   "execution_count": 3,
   "metadata": {},
   "outputs": [],
   "source": [
    "def data_loader(device):\n",
    "    dom_np, dom, X, y = make_lin_regression()\n",
    "    X = torch.from_numpy(X).float().to(device)\n",
    "    y = torch.from_numpy(y).float().unsqueeze(-1).to(device)    # unsqueeze from vector to 2D tensor, match dimension of X\n",
    "    dom = dom.to(device)\n",
    "    return dom_np, dom, X, y"
   ]
  },
  {
   "cell_type": "markdown",
   "metadata": {},
   "source": [
    "## Training Function"
   ]
  },
  {
   "cell_type": "code",
   "execution_count": 4,
   "metadata": {},
   "outputs": [],
   "source": [
    "def train(model, X, y, lr, loss_fn, num_epoch):\n",
    "    # tell PyTorch we are in training mode\n",
    "    model.train()\n",
    "    # SGD\n",
    "    optimizer = optim.SGD(model.parameters(), lr = lr)\n",
    "    \n",
    "    for epoch in range(0, num_epoch):\n",
    "        # PyTorch accumulates the gradients on subsequent backward passes\n",
    "        # need to zero out gradient at the start so the parameters update correctly\n",
    "        optimizer.zero_grad()\n",
    "        # calculate prediction\n",
    "        y_ = model(X)\n",
    "        # calculate loss\n",
    "        loss = loss_fn(y_,y)\n",
    "        # back-prop to get gradient\n",
    "        loss.backward()\n",
    "        # SGD update\n",
    "        optimizer.step()\n",
    "        print(\"Epoch: {} \\tTraining Cost: {:.6f}\".format(epoch, loss))\n",
    "    return model        "
   ]
  },
  {
   "cell_type": "markdown",
   "metadata": {},
   "source": [
    "## 1. Model Class"
   ]
  },
  {
   "cell_type": "code",
   "execution_count": 5,
   "metadata": {},
   "outputs": [],
   "source": [
    "class LinReg(nn.Module):\n",
    "    def __init__(self, input_dim):\n",
    "        # initialize nn.Module super class\n",
    "        super().__init__()\n",
    "        self.beta = nn.Linear(input_dim, 1)\n",
    "        \n",
    "    def forward(self, X):\n",
    "        return self.beta(X)"
   ]
  },
  {
   "cell_type": "markdown",
   "metadata": {},
   "source": [
    "## *move model to GPU if applicable"
   ]
  },
  {
   "cell_type": "code",
   "execution_count": 6,
   "metadata": {},
   "outputs": [
    {
     "data": {
      "text/plain": [
       "device(type='cpu')"
      ]
     },
     "execution_count": 6,
     "metadata": {},
     "output_type": "execute_result"
    },
    {
     "data": {
      "image/png": "[encoded data removed]",
      "text/plain": [
       "<Figure size 432x288 with 1 Axes>"
      ]
     },
     "metadata": {
      "needs_background": "light"
     },
     "output_type": "display_data"
    }
   ],
   "source": [
    "device = torch.device(\"cuda:0\" if torch.cuda.is_available() else \"cpu\")\n",
    "dom_np, dom, X, y = data_loader(device)\n",
    "device"
   ]
  },
  {
   "cell_type": "markdown",
   "metadata": {},
   "source": [
    "## 2. Loss"
   ]
  },
  {
   "cell_type": "code",
   "execution_count": 7,
   "metadata": {},
   "outputs": [],
   "source": [
    "# squred L2 norm\n",
    "loss_fn = nn.MSELoss()"
   ]
  },
  {
   "cell_type": "markdown",
   "metadata": {},
   "source": [
    "## Model"
   ]
  },
  {
   "cell_type": "code",
   "execution_count": 8,
   "metadata": {},
   "outputs": [
    {
     "name": "stdout",
     "output_type": "stream",
     "text": [
      "Epoch: 0 \tTraining Cost: 196.148727\n",
      "Epoch: 1 \tTraining Cost: 166.247330\n",
      "Epoch: 2 \tTraining Cost: 146.460175\n",
      "Epoch: 3 \tTraining Cost: 133.350098\n",
      "Epoch: 4 \tTraining Cost: 124.653847\n",
      "Epoch: 5 \tTraining Cost: 118.879051\n",
      "Epoch: 6 \tTraining Cost: 115.040184\n",
      "Epoch: 7 \tTraining Cost: 112.485733\n",
      "Epoch: 8 \tTraining Cost: 110.784363\n",
      "Epoch: 9 \tTraining Cost: 109.650185\n"
     ]
    }
   ],
   "source": [
    "model = LinReg(1).to(device)\n",
    "model = train(model, X, y, 0.1, loss_fn, 10)"
   ]
  },
  {
   "cell_type": "markdown",
   "metadata": {},
   "source": [
    "## 3. Optimizer"
   ]
  },
  {
   "cell_type": "code",
   "execution_count": 9,
   "metadata": {},
   "outputs": [],
   "source": [
    "# SGD\n",
    "optimizer = optim.SGD(model.parameters(), lr=0.01)"
   ]
  },
  {
   "cell_type": "code",
   "execution_count": 10,
   "metadata": {},
   "outputs": [
    {
     "data": {
      "image/png": "[encoded data removed]",
      "text/plain": [
       "<Figure size 432x288 with 1 Axes>"
      ]
     },
     "metadata": {
      "needs_background": "light"
     },
     "output_type": "display_data"
    }
   ],
   "source": [
    "# tell PyTorch we are in evaluation mode\n",
    "model.eval()\n",
    "# do not calculate gradient during evaluation\n",
    "with torch.no_grad():\n",
    "    y_ = model(dom)\n",
    "\n",
    "# visualize\n",
    "fig, ax = plt.subplots()\n",
    "ax.plot(X.numpy(), y.numpy(), \".\", label=\"data\")\n",
    "ax.plot(dom_np, y_.numpy(), \"-\", label=\"pred\")\n",
    "ax.legend();"
   ]
  },
  {
   "cell_type": "markdown",
   "metadata": {},
   "source": [
    "## Showing model information"
   ]
  },
  {
   "cell_type": "code",
   "execution_count": 11,
   "metadata": {},
   "outputs": [
    {
     "data": {
      "text/plain": [
       "Linear(in_features=1, out_features=1, bias=True)"
      ]
     },
     "execution_count": 11,
     "metadata": {},
     "output_type": "execute_result"
    }
   ],
   "source": [
    "model.beta"
   ]
  },
  {
   "cell_type": "code",
   "execution_count": 12,
   "metadata": {},
   "outputs": [
    {
     "data": {
      "text/plain": [
       "Parameter containing:\n",
       "tensor([[7.6987]], requires_grad=True)"
      ]
     },
     "execution_count": 12,
     "metadata": {},
     "output_type": "execute_result"
    }
   ],
   "source": [
    "model.beta.weight"
   ]
  },
  {
   "cell_type": "code",
   "execution_count": 13,
   "metadata": {},
   "outputs": [
    {
     "data": {
      "text/plain": [
       "Parameter containing:\n",
       "tensor([0.9930], requires_grad=True)"
      ]
     },
     "execution_count": 13,
     "metadata": {},
     "output_type": "execute_result"
    }
   ],
   "source": [
    "model.beta.bias"
   ]
  }
 ],
 "metadata": {
  "kernelspec": {
   "display_name": "Python 3",
   "language": "python",
   "name": "python3"
  },
  "language_info": {
   "codemirror_mode": {
    "name": "ipython",
    "version": 3
   },
   "file_extension": ".py",
   "mimetype": "text/x-python",
   "name": "python",
   "nbconvert_exporter": "python",
   "pygments_lexer": "ipython3",
   "version": "3.8.5"
  }
 },
 "nbformat": 4,
 "nbformat_minor": 4
}
